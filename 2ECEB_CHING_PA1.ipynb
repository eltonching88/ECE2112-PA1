{
 "cells": [
  {
   "cell_type": "markdown",
   "id": "292b55d2-dc58-4ba7-b5d3-89272dd0c827",
   "metadata": {},
   "source": [
    "**1. ALPHABET SOUP PROBLEM:** Create a function that takes a string and returns a string with its letters\n",
    "in alphabetical order.\n"
   ]
  },
  {
   "cell_type": "code",
   "execution_count": 1,
   "id": "90d4d5af-3e4f-46e9-8197-2d11bf2031da",
   "metadata": {},
   "outputs": [
    {
     "name": "stdin",
     "output_type": "stream",
     "text": [
      "Enter a word:  Hello\n"
     ]
    },
    {
     "data": {
      "text/plain": [
       "'ehllo'"
      ]
     },
     "execution_count": 1,
     "metadata": {},
     "output_type": "execute_result"
    }
   ],
   "source": [
    "def alphabet_soup(word):\n",
    "    # Convert to lowercase and sort the list\n",
    "    letters = list(word.lower())\n",
    "    letters.sort()\n",
    "\n",
    "    # Output as string from list\n",
    "    new = \"\"\n",
    "    for i in letters:\n",
    "        new += i\n",
    "    return new\n",
    "\n",
    "# User input\n",
    "word = input(\"Enter a word: \")\n",
    "alphabet_soup(word)\n"
   ]
  },
  {
   "cell_type": "markdown",
   "id": "ad89bd91-df0a-4f75-b758-d378d2980ab9",
   "metadata": {},
   "source": [
    "**2. EMOTICON PROBLEM:** Create a function that changes specific words into emoticons. Given a sentence\n",
    "as a string, replace the words smile, grin, sad and mad with their corresponding emoticon"
   ]
  },
  {
   "cell_type": "code",
   "execution_count": 2,
   "id": "446ccd75-0f17-4882-96e4-5157c0ad7e16",
   "metadata": {},
   "outputs": [
    {
     "name": "stdin",
     "output_type": "stream",
     "text": [
      "Send message:  Make me smile, I am Mad\n"
     ]
    },
    {
     "data": {
      "text/plain": [
       "'Make me :), I am >:('"
      ]
     },
     "execution_count": 2,
     "metadata": {},
     "output_type": "execute_result"
    }
   ],
   "source": [
    "def emotify(text):\n",
    "    # Dictionary of emojis\n",
    "    emojis = {\"Smile\":\":)\", \"Grin\":\":D\", \"Sad\":\":((\", \"Mad\":\">:(\"}\n",
    "    \n",
    "    for word, emoji in emojis.items():\n",
    "        text = text.replace(word, emoji)         # Smile to :)\n",
    "        text = text.replace(word.upper(), emoji) # SMILE to :)\n",
    "        text = text.replace(word.lower(), emoji) # smile to :)   \n",
    "        \n",
    "    return text\n",
    "    \n",
    "# User input\n",
    "txt = input(\"Send message: \")\n",
    "emotify(txt)\n"
   ]
  },
  {
   "cell_type": "markdown",
   "id": "ab23f777-8ac1-44d8-82b1-e006d73dc847",
   "metadata": {},
   "source": [
    "**3. UNPACKING LIST PROBLEM:** Unpack the list writeyourcodehere into three variables, being first,\n",
    "middle, and last, with middle being everything in between the first and last element. Then print all three\n",
    "variables."
   ]
  },
  {
   "cell_type": "code",
   "execution_count": 3,
   "id": "774ab945-cafc-4db3-bc41-957196c1ac29",
   "metadata": {},
   "outputs": [
    {
     "name": "stdout",
     "output_type": "stream",
     "text": [
      "First:\t1\n",
      "Middle:\t[2, 3, 4, 5]\n",
      "Last:\t6\n",
      "First:\t1\n",
      "Middle:\t[2, 3, 4, 5, 6, 7]\n",
      "Last:\t8\n"
     ]
    }
   ],
   "source": [
    "def unpack(lst):\n",
    "\n",
    "    # Separate first and last using index 0, -1\n",
    "    first = (lst[0])\n",
    "    last = (lst[-1])\n",
    "\n",
    "    # Get the value in between\n",
    "    middle = \"\"\n",
    "    \n",
    "    n = len(lst)\n",
    "    for i in range(1,n-1): # [1,(2),(3),(4),(5),6]\n",
    "        value = (lst[i])\n",
    "        middle += str(value)\n",
    "        if i < n-2: \n",
    "            middle += \", \"\n",
    "    \n",
    "    print(\"First:\\t\" + str(first))\n",
    "    print(\"Middle:\\t[\" + middle + \"]\")\n",
    "    print(\"Last:\\t\" + str(last))\n",
    "\n",
    "    return \n",
    "\n",
    "lst = [1,2,3,4,5,6]\n",
    "unpack(lst)\n",
    "\n",
    "lst = [1,2,3,4,5,6,7,8]\n",
    "unpack(lst)"
   ]
  },
  {
   "cell_type": "code",
   "execution_count": 4,
   "id": "0a2da8f0-b51a-49c8-8c2d-870f53587597",
   "metadata": {},
   "outputs": [
    {
     "name": "stdout",
     "output_type": "stream",
     "text": [
      "First:\t 1\n",
      "Middle:\t [2, 3, 4, 5]\n",
      "Last:\t 6\n"
     ]
    }
   ],
   "source": [
    "def unpack(lst):\n",
    "\n",
    "    # OPTION 2: Using list unpacking\n",
    "    first, *middle, last = lst\n",
    "    \n",
    "    print(\"First:\\t\", first)\n",
    "    print(\"Middle:\\t\", middle)\n",
    "    print(\"Last:\\t\", last)\n",
    "    \n",
    "    return \n",
    "\n",
    "lst = [1,2,3,4,5,6]\n",
    "unpack(lst)\n"
   ]
  }
 ],
 "metadata": {
  "kernelspec": {
   "display_name": "Python 3 (ipykernel)",
   "language": "python",
   "name": "python3"
  },
  "language_info": {
   "codemirror_mode": {
    "name": "ipython",
    "version": 3
   },
   "file_extension": ".py",
   "mimetype": "text/x-python",
   "name": "python",
   "nbconvert_exporter": "python",
   "pygments_lexer": "ipython3",
   "version": "3.13.5"
  }
 },
 "nbformat": 4,
 "nbformat_minor": 5
}
